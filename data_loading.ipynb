{
 "cells": [
  {
   "cell_type": "code",
   "execution_count": 2,
   "id": "fde32a1b",
   "metadata": {},
   "outputs": [],
   "source": [
    "import pandas as pd\n",
    "import numpy as np\n",
    "import matplotlib.pyplot as plt\n",
    "import seaborn as sns\n",
    "from riotwatcher import LolWatcher, ApiError\n"
   ]
  },
  {
   "cell_type": "code",
   "execution_count": 4,
   "id": "592b40c9",
   "metadata": {},
   "outputs": [],
   "source": [
    "lol_watcher = LolWatcher('RGAPI-a2e5141b-98d9-427a-905c-594767fb16cf')\n",
    "my_region = 'euw1'\n"
   ]
  },
  {
   "cell_type": "code",
   "execution_count": 95,
   "id": "5b881f8f",
   "metadata": {},
   "outputs": [],
   "source": [
    "def liste_player_all_ranks():\n",
    "    list_finale = []\n",
    "    list_finale = pd.DataFrame(list_finale, columns=['puuid'])\n",
    "    random_page = np.random.randint(1, 10)\n",
    "    for tier in ['IRON', 'BRONZE', 'SILVER', 'GOLD', 'PLATINUM', 'DIAMOND']:\n",
    "        for division in ['I', 'II', 'III', 'IV']:\n",
    "            try:\n",
    "                listloc = lol_watcher.league.entries(my_region,\n",
    "                                                   queue='RANKED_SOLO_5x5',\n",
    "                                                   tier=tier,\n",
    "                                                   division=division,\n",
    "                                                   page=random_page)\n",
    "                listloc = pd.DataFrame(listloc)\n",
    "                listloc = pd.DataFrame(listloc['puuid'].drop_duplicates().reset_index(drop=True))\n",
    "                listloc.columns = ['puuid']\n",
    "                list_finale = pd.concat([list_finale, listloc], ignore_index=True)\n",
    "                print(f\"Loaded {len(listloc)} players from {tier} {division}\")\n",
    "            except ApiError as err:\n",
    "                print(f\"Error fetching data for {tier} {division}: {err}\")\n",
    "    \n",
    "    try:\n",
    "        listlocchall = lol_watcher.league.challenger_by_queue(my_region, 'RANKED_SOLO_5x5')\n",
    "        listlocchall = pd.DataFrame(listlocchall)\n",
    "        listchallpuuid = listlocchall['entries'].apply(lambda x: x['puuid'])\n",
    "        listlocchall = pd.DataFrame(listchallpuuid).drop_duplicates().reset_index(drop=True)\n",
    "        listlocchall.columns = ['puuid']\n",
    "        listlocchall = pd.DataFrame(listlocchall['puuid'].sample(205).drop_duplicates().reset_index(drop=True))\n",
    "        listlocchall.columns = ['puuid']\n",
    "        list_finale = pd.concat([list_finale, listlocchall], ignore_index=True)\n",
    "        print(f\"Loaded {len(listlocchall)} players from challenger\")\n",
    "    except ApiError as err:\n",
    "        print(f\"Error fetching data for challenger: {err}\")\n",
    "    \n",
    "    try:\n",
    "        listlocmaster = lol_watcher.league.masters_by_queue(my_region, 'RANKED_SOLO_5x5')\n",
    "        listlocmaster = pd.DataFrame(listlocmaster)\n",
    "        listmasterpuuid = listlocmaster['entries'].apply(lambda x: x['puuid'])\n",
    "        listlocmaster = pd.DataFrame(listmasterpuuid).drop_duplicates().reset_index(drop=True)\n",
    "        listlocmaster.columns = ['puuid']\n",
    "        listlocmaster = pd.DataFrame(listlocmaster['puuid'].sample(410).drop_duplicates().reset_index(drop=True))\n",
    "        listlocmaster.columns = ['puuid']\n",
    "        list_finale = pd.concat([list_finale, listlocmaster], ignore_index=True)\n",
    "        print(f\"Loaded {len(listlocmaster)} players from master\")\n",
    "    except ApiError as err:\n",
    "        print(f\"Error fetching data for master: {err}\")\n",
    "\n",
    "    try:\n",
    "        listlocgrandmaster = lol_watcher.league.grandmaster_by_queue(my_region, 'RANKED_SOLO_5x5')\n",
    "        listlocgrandmaster = pd.DataFrame(listlocgrandmaster)\n",
    "        listgrandmasterpuuid = listlocgrandmaster['entries'].apply(lambda x: x['puuid'])\n",
    "        listlocgrandmaster = pd.DataFrame(listgrandmasterpuuid).drop_duplicates().reset_index(drop=True)\n",
    "        listlocgrandmaster.columns = ['puuid']\n",
    "        listlocgrandmaster = pd.DataFrame(listlocgrandmaster['puuid'].sample(205).drop_duplicates().reset_index(drop=True))\n",
    "        listlocgrandmaster.columns = ['puuid']\n",
    "        list_finale = pd.concat([list_finale, listlocgrandmaster], ignore_index=True)\n",
    "        print(f\"Loaded {len(listlocgrandmaster)} players from grand master\")\n",
    "    except ApiError as err:\n",
    "        print(f\"Error fetching data for grand master: {err}\")\n",
    "    \n",
    "    list_finale = list_finale.drop_duplicates().reset_index(drop=True)\n",
    "    return list_finale\n"
   ]
  },
  {
   "cell_type": "code",
   "execution_count": 96,
   "id": "e84cb0f4",
   "metadata": {},
   "outputs": [
    {
     "name": "stdout",
     "output_type": "stream",
     "text": [
      "Loaded 205 players from IRON I\n",
      "Loaded 205 players from IRON II\n",
      "Loaded 205 players from IRON III\n",
      "Loaded 205 players from IRON IV\n",
      "Loaded 205 players from BRONZE I\n",
      "Loaded 205 players from BRONZE II\n",
      "Loaded 205 players from BRONZE III\n",
      "Loaded 205 players from BRONZE IV\n",
      "Loaded 205 players from SILVER I\n",
      "Loaded 205 players from SILVER II\n",
      "Loaded 205 players from SILVER III\n",
      "Loaded 205 players from SILVER IV\n",
      "Loaded 205 players from GOLD I\n",
      "Loaded 205 players from GOLD II\n",
      "Loaded 205 players from GOLD III\n",
      "Loaded 205 players from GOLD IV\n",
      "Loaded 205 players from PLATINUM I\n",
      "Loaded 205 players from PLATINUM II\n",
      "Loaded 205 players from PLATINUM III\n",
      "Loaded 205 players from PLATINUM IV\n",
      "Loaded 205 players from DIAMOND I\n",
      "Loaded 205 players from DIAMOND II\n",
      "Loaded 205 players from DIAMOND III\n",
      "Loaded 205 players from DIAMOND IV\n",
      "Loaded 205 players from challenger\n",
      "Loaded 410 players from master\n",
      "Loaded 205 players from grand master\n"
     ]
    }
   ],
   "source": [
    "df_test_2 = liste_player_all_ranks()"
   ]
  },
  {
   "cell_type": "code",
   "execution_count": 98,
   "id": "c48914d8",
   "metadata": {},
   "outputs": [
    {
     "data": {
      "text/html": [
       "<div>\n",
       "<style scoped>\n",
       "    .dataframe tbody tr th:only-of-type {\n",
       "        vertical-align: middle;\n",
       "    }\n",
       "\n",
       "    .dataframe tbody tr th {\n",
       "        vertical-align: top;\n",
       "    }\n",
       "\n",
       "    .dataframe thead th {\n",
       "        text-align: right;\n",
       "    }\n",
       "</style>\n",
       "<table border=\"1\" class=\"dataframe\">\n",
       "  <thead>\n",
       "    <tr style=\"text-align: right;\">\n",
       "      <th></th>\n",
       "      <th>puuid</th>\n",
       "    </tr>\n",
       "  </thead>\n",
       "  <tbody>\n",
       "    <tr>\n",
       "      <th>0</th>\n",
       "      <td>S9m6fETkHbJ52_AxPuOqEWfu-06vo4iAEg7FMxiO0CzWV_...</td>\n",
       "    </tr>\n",
       "    <tr>\n",
       "      <th>1</th>\n",
       "      <td>vvGyuoHpg9YQArvIHlPpXzDJHOTMfG8LEl83_TzX_1Aw-e...</td>\n",
       "    </tr>\n",
       "    <tr>\n",
       "      <th>2</th>\n",
       "      <td>6UADXjLomq-3y8LndKve2Z7FUS3ETtrIdyqbyOiLvPFMTa...</td>\n",
       "    </tr>\n",
       "    <tr>\n",
       "      <th>3</th>\n",
       "      <td>JLUEPk9OB-NrqNOQqF78oF434Blp04bNGb6tqU-aUnHJJ8...</td>\n",
       "    </tr>\n",
       "    <tr>\n",
       "      <th>4</th>\n",
       "      <td>D2xDwY9cAkNMVUylBa7NVup7qVCBfVvBaYY4Rw3tuCoI79...</td>\n",
       "    </tr>\n",
       "  </tbody>\n",
       "</table>\n",
       "</div>"
      ],
      "text/plain": [
       "                                               puuid\n",
       "0  S9m6fETkHbJ52_AxPuOqEWfu-06vo4iAEg7FMxiO0CzWV_...\n",
       "1  vvGyuoHpg9YQArvIHlPpXzDJHOTMfG8LEl83_TzX_1Aw-e...\n",
       "2  6UADXjLomq-3y8LndKve2Z7FUS3ETtrIdyqbyOiLvPFMTa...\n",
       "3  JLUEPk9OB-NrqNOQqF78oF434Blp04bNGb6tqU-aUnHJJ8...\n",
       "4  D2xDwY9cAkNMVUylBa7NVup7qVCBfVvBaYY4Rw3tuCoI79..."
      ]
     },
     "execution_count": 98,
     "metadata": {},
     "output_type": "execute_result"
    }
   ],
   "source": [
    "df_test_2.head()"
   ]
  },
  {
   "cell_type": "code",
   "execution_count": 60,
   "id": "a6c8298a",
   "metadata": {},
   "outputs": [],
   "source": [
    "def last_ranked_game_by_puuid(puuid):\n",
    "    try:\n",
    "        matchlist = lol_watcher.match.matchlist_by_puuid(my_region, puuid, queue='RANKED_SOLO_5x5', count=1)\n",
    "        return matchlist  \n",
    "    except ApiError as err:\n",
    "        print(f\"Error fetching match list for {puuid}: {err}\")\n",
    "    return None"
   ]
  },
  {
   "cell_type": "code",
   "execution_count": 65,
   "id": "08e9ca4a",
   "metadata": {},
   "outputs": [
    {
     "ename": "KeyError",
     "evalue": "'puuid'",
     "output_type": "error",
     "traceback": [
      "\u001b[31m---------------------------------------------------------------------------\u001b[39m",
      "\u001b[31mKeyError\u001b[39m                                  Traceback (most recent call last)",
      "\u001b[36mFile \u001b[39m\u001b[32m~/LoserQ/.venv/lib/python3.12/site-packages/pandas/core/indexes/base.py:3812\u001b[39m, in \u001b[36mIndex.get_loc\u001b[39m\u001b[34m(self, key)\u001b[39m\n\u001b[32m   3811\u001b[39m \u001b[38;5;28;01mtry\u001b[39;00m:\n\u001b[32m-> \u001b[39m\u001b[32m3812\u001b[39m     \u001b[38;5;28;01mreturn\u001b[39;00m \u001b[38;5;28;43mself\u001b[39;49m\u001b[43m.\u001b[49m\u001b[43m_engine\u001b[49m\u001b[43m.\u001b[49m\u001b[43mget_loc\u001b[49m\u001b[43m(\u001b[49m\u001b[43mcasted_key\u001b[49m\u001b[43m)\u001b[49m\n\u001b[32m   3813\u001b[39m \u001b[38;5;28;01mexcept\u001b[39;00m \u001b[38;5;167;01mKeyError\u001b[39;00m \u001b[38;5;28;01mas\u001b[39;00m err:\n",
      "\u001b[36mFile \u001b[39m\u001b[32mpandas/_libs/index.pyx:167\u001b[39m, in \u001b[36mpandas._libs.index.IndexEngine.get_loc\u001b[39m\u001b[34m()\u001b[39m\n",
      "\u001b[36mFile \u001b[39m\u001b[32mpandas/_libs/index.pyx:175\u001b[39m, in \u001b[36mpandas._libs.index.IndexEngine.get_loc\u001b[39m\u001b[34m()\u001b[39m\n",
      "\u001b[36mFile \u001b[39m\u001b[32mpandas/_libs/index_class_helper.pxi:70\u001b[39m, in \u001b[36mpandas._libs.index.Int64Engine._check_type\u001b[39m\u001b[34m()\u001b[39m\n",
      "\u001b[31mKeyError\u001b[39m: 'puuid'",
      "\nThe above exception was the direct cause of the following exception:\n",
      "\u001b[31mKeyError\u001b[39m                                  Traceback (most recent call last)",
      "\u001b[36mCell\u001b[39m\u001b[36m \u001b[39m\u001b[32mIn[65]\u001b[39m\u001b[32m, line 1\u001b[39m\n\u001b[32m----> \u001b[39m\u001b[32m1\u001b[39m game_test = last_ranked_game_by_puuid(\u001b[43mdf_test\u001b[49m\u001b[43m.\u001b[49m\u001b[43miloc\u001b[49m\u001b[43m[\u001b[49m\u001b[43m-\u001b[49m\u001b[32;43m1\u001b[39;49m\u001b[43m]\u001b[49m\u001b[43m[\u001b[49m\u001b[33;43m'\u001b[39;49m\u001b[33;43mpuuid\u001b[39;49m\u001b[33;43m'\u001b[39;49m\u001b[43m]\u001b[49m)\n",
      "\u001b[36mFile \u001b[39m\u001b[32m~/LoserQ/.venv/lib/python3.12/site-packages/pandas/core/series.py:1130\u001b[39m, in \u001b[36mSeries.__getitem__\u001b[39m\u001b[34m(self, key)\u001b[39m\n\u001b[32m   1127\u001b[39m     \u001b[38;5;28;01mreturn\u001b[39;00m \u001b[38;5;28mself\u001b[39m._values[key]\n\u001b[32m   1129\u001b[39m \u001b[38;5;28;01melif\u001b[39;00m key_is_scalar:\n\u001b[32m-> \u001b[39m\u001b[32m1130\u001b[39m     \u001b[38;5;28;01mreturn\u001b[39;00m \u001b[38;5;28;43mself\u001b[39;49m\u001b[43m.\u001b[49m\u001b[43m_get_value\u001b[49m\u001b[43m(\u001b[49m\u001b[43mkey\u001b[49m\u001b[43m)\u001b[49m\n\u001b[32m   1132\u001b[39m \u001b[38;5;66;03m# Convert generator to list before going through hashable part\u001b[39;00m\n\u001b[32m   1133\u001b[39m \u001b[38;5;66;03m# (We will iterate through the generator there to check for slices)\u001b[39;00m\n\u001b[32m   1134\u001b[39m \u001b[38;5;28;01mif\u001b[39;00m is_iterator(key):\n",
      "\u001b[36mFile \u001b[39m\u001b[32m~/LoserQ/.venv/lib/python3.12/site-packages/pandas/core/series.py:1246\u001b[39m, in \u001b[36mSeries._get_value\u001b[39m\u001b[34m(self, label, takeable)\u001b[39m\n\u001b[32m   1243\u001b[39m     \u001b[38;5;28;01mreturn\u001b[39;00m \u001b[38;5;28mself\u001b[39m._values[label]\n\u001b[32m   1245\u001b[39m \u001b[38;5;66;03m# Similar to Index.get_value, but we do not fall back to positional\u001b[39;00m\n\u001b[32m-> \u001b[39m\u001b[32m1246\u001b[39m loc = \u001b[38;5;28;43mself\u001b[39;49m\u001b[43m.\u001b[49m\u001b[43mindex\u001b[49m\u001b[43m.\u001b[49m\u001b[43mget_loc\u001b[49m\u001b[43m(\u001b[49m\u001b[43mlabel\u001b[49m\u001b[43m)\u001b[49m\n\u001b[32m   1248\u001b[39m \u001b[38;5;28;01mif\u001b[39;00m is_integer(loc):\n\u001b[32m   1249\u001b[39m     \u001b[38;5;28;01mreturn\u001b[39;00m \u001b[38;5;28mself\u001b[39m._values[loc]\n",
      "\u001b[36mFile \u001b[39m\u001b[32m~/LoserQ/.venv/lib/python3.12/site-packages/pandas/core/indexes/base.py:3819\u001b[39m, in \u001b[36mIndex.get_loc\u001b[39m\u001b[34m(self, key)\u001b[39m\n\u001b[32m   3814\u001b[39m     \u001b[38;5;28;01mif\u001b[39;00m \u001b[38;5;28misinstance\u001b[39m(casted_key, \u001b[38;5;28mslice\u001b[39m) \u001b[38;5;129;01mor\u001b[39;00m (\n\u001b[32m   3815\u001b[39m         \u001b[38;5;28misinstance\u001b[39m(casted_key, abc.Iterable)\n\u001b[32m   3816\u001b[39m         \u001b[38;5;129;01mand\u001b[39;00m \u001b[38;5;28many\u001b[39m(\u001b[38;5;28misinstance\u001b[39m(x, \u001b[38;5;28mslice\u001b[39m) \u001b[38;5;28;01mfor\u001b[39;00m x \u001b[38;5;129;01min\u001b[39;00m casted_key)\n\u001b[32m   3817\u001b[39m     ):\n\u001b[32m   3818\u001b[39m         \u001b[38;5;28;01mraise\u001b[39;00m InvalidIndexError(key)\n\u001b[32m-> \u001b[39m\u001b[32m3819\u001b[39m     \u001b[38;5;28;01mraise\u001b[39;00m \u001b[38;5;167;01mKeyError\u001b[39;00m(key) \u001b[38;5;28;01mfrom\u001b[39;00m\u001b[38;5;250m \u001b[39m\u001b[34;01merr\u001b[39;00m\n\u001b[32m   3820\u001b[39m \u001b[38;5;28;01mexcept\u001b[39;00m \u001b[38;5;167;01mTypeError\u001b[39;00m:\n\u001b[32m   3821\u001b[39m     \u001b[38;5;66;03m# If we have a listlike key, _check_indexing_error will raise\u001b[39;00m\n\u001b[32m   3822\u001b[39m     \u001b[38;5;66;03m#  InvalidIndexError. Otherwise we fall through and re-raise\u001b[39;00m\n\u001b[32m   3823\u001b[39m     \u001b[38;5;66;03m#  the TypeError.\u001b[39;00m\n\u001b[32m   3824\u001b[39m     \u001b[38;5;28mself\u001b[39m._check_indexing_error(key)\n",
      "\u001b[31mKeyError\u001b[39m: 'puuid'"
     ]
    }
   ],
   "source": [
    "game_test = last_ranked_game_by_puuid(df_test.iloc[-1]['puuid'])"
   ]
  },
  {
   "cell_type": "code",
   "execution_count": null,
   "id": "4c177dda",
   "metadata": {},
   "outputs": [],
   "source": [
    "def create_last_game_df(puuid_df):\n",
    "    last_games = []\n",
    "    for puuid in puuid_df['puuid']:\n",
    "        last_game_id = last_ranked_game_by_puuid(puuid)\n",
    "        if last_game_id:\n",
    "            last_games.append(last_game_id)\n",
    "        else:\n",
    "            last_games.append(None)\n",
    "    last_game_df = pd.DataFrame(last_games)\n",
    "    return puuid_df"
   ]
  },
  {
   "cell_type": "code",
   "execution_count": 34,
   "id": "e6378d13",
   "metadata": {},
   "outputs": [],
   "source": [
    "def did_player_won_game(puuid, game_id):\n",
    "    try:\n",
    "        game = lol_watcher.match.by_id(my_region, game_id)\n",
    "        for participant in game['info']['participants']:\n",
    "            if participant['puuid'] == puuid:\n",
    "                return participant['win']\n",
    "    except ApiError as err:\n",
    "        print(f\"Error fetching game data: {err}\")\n",
    "    return False"
   ]
  },
  {
   "cell_type": "code",
   "execution_count": 57,
   "id": "c7f43ab3",
   "metadata": {},
   "outputs": [],
   "source": [
    "puuidtest = list2['puuid'].iloc[0]\n",
    "gametestli = lol_watcher.match.matchlist_by_puuid(my_region, puuidtest)\n",
    "gametest = gametestli[0]"
   ]
  },
  {
   "cell_type": "code",
   "execution_count": 58,
   "id": "eccc58e7",
   "metadata": {},
   "outputs": [
    {
     "name": "stdout",
     "output_type": "stream",
     "text": [
      "True\n"
     ]
    }
   ],
   "source": [
    "print(did_player_won_game(puuidtest, gametestli[2]))"
   ]
  }
 ],
 "metadata": {
  "kernelspec": {
   "display_name": ".venv (3.12.3)",
   "language": "python",
   "name": "python3"
  },
  "language_info": {
   "codemirror_mode": {
    "name": "ipython",
    "version": 3
   },
   "file_extension": ".py",
   "mimetype": "text/x-python",
   "name": "python",
   "nbconvert_exporter": "python",
   "pygments_lexer": "ipython3",
   "version": "3.12.3"
  }
 },
 "nbformat": 4,
 "nbformat_minor": 5
}
